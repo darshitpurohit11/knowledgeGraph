{
 "cells": [
  {
   "cell_type": "code",
   "execution_count": 1,
   "id": "12a3b789",
   "metadata": {},
   "outputs": [
    {
     "name": "stdout",
     "output_type": "stream",
     "text": [
      "\u001b[33mWARNING: Ignoring invalid distribution ~ensorflow (/home/darshit/anaconda3/lib/python3.11/site-packages)\u001b[0m\u001b[33m\n",
      "\u001b[0mRequirement already satisfied: spacy in ./anaconda3/lib/python3.11/site-packages (3.7.4)\n",
      "Requirement already satisfied: spacy-legacy<3.1.0,>=3.0.11 in ./anaconda3/lib/python3.11/site-packages (from spacy) (3.0.12)\n",
      "Requirement already satisfied: spacy-loggers<2.0.0,>=1.0.0 in ./anaconda3/lib/python3.11/site-packages (from spacy) (1.0.5)\n",
      "Requirement already satisfied: murmurhash<1.1.0,>=0.28.0 in ./anaconda3/lib/python3.11/site-packages (from spacy) (1.0.10)\n",
      "Requirement already satisfied: cymem<2.1.0,>=2.0.2 in ./anaconda3/lib/python3.11/site-packages (from spacy) (2.0.8)\n",
      "Requirement already satisfied: preshed<3.1.0,>=3.0.2 in ./anaconda3/lib/python3.11/site-packages (from spacy) (3.0.9)\n",
      "Requirement already satisfied: thinc<8.3.0,>=8.2.2 in ./anaconda3/lib/python3.11/site-packages (from spacy) (8.2.2)\n",
      "Requirement already satisfied: wasabi<1.2.0,>=0.9.1 in ./anaconda3/lib/python3.11/site-packages (from spacy) (1.1.2)\n",
      "Requirement already satisfied: srsly<3.0.0,>=2.4.3 in ./anaconda3/lib/python3.11/site-packages (from spacy) (2.4.8)\n",
      "Requirement already satisfied: catalogue<2.1.0,>=2.0.6 in ./anaconda3/lib/python3.11/site-packages (from spacy) (2.0.10)\n",
      "Requirement already satisfied: weasel<0.4.0,>=0.1.0 in ./anaconda3/lib/python3.11/site-packages (from spacy) (0.3.4)\n",
      "Requirement already satisfied: typer<0.10.0,>=0.3.0 in ./anaconda3/lib/python3.11/site-packages (from spacy) (0.9.4)\n",
      "Requirement already satisfied: smart-open<7.0.0,>=5.2.1 in ./anaconda3/lib/python3.11/site-packages (from spacy) (6.4.0)\n",
      "Requirement already satisfied: tqdm<5.0.0,>=4.38.0 in ./anaconda3/lib/python3.11/site-packages (from spacy) (4.66.5)\n",
      "Requirement already satisfied: requests<3.0.0,>=2.13.0 in ./anaconda3/lib/python3.11/site-packages (from spacy) (2.31.0)\n",
      "Requirement already satisfied: pydantic!=1.8,!=1.8.1,<3.0.0,>=1.7.4 in ./anaconda3/lib/python3.11/site-packages (from spacy) (2.9.2)\n",
      "Requirement already satisfied: jinja2 in ./anaconda3/lib/python3.11/site-packages (from spacy) (3.1.2)\n",
      "Requirement already satisfied: setuptools in ./anaconda3/lib/python3.11/site-packages (from spacy) (65.5.1)\n",
      "Requirement already satisfied: packaging>=20.0 in ./anaconda3/lib/python3.11/site-packages (from spacy) (23.2)\n",
      "Requirement already satisfied: langcodes<4.0.0,>=3.2.0 in ./anaconda3/lib/python3.11/site-packages (from spacy) (3.3.0)\n",
      "Requirement already satisfied: numpy>=1.19.0 in ./anaconda3/lib/python3.11/site-packages (from spacy) (1.23.5)\n",
      "Requirement already satisfied: annotated-types>=0.6.0 in ./anaconda3/lib/python3.11/site-packages (from pydantic!=1.8,!=1.8.1,<3.0.0,>=1.7.4->spacy) (0.6.0)\n",
      "Requirement already satisfied: pydantic-core==2.23.4 in ./anaconda3/lib/python3.11/site-packages (from pydantic!=1.8,!=1.8.1,<3.0.0,>=1.7.4->spacy) (2.23.4)\n",
      "Requirement already satisfied: typing-extensions>=4.6.1 in ./anaconda3/lib/python3.11/site-packages (from pydantic!=1.8,!=1.8.1,<3.0.0,>=1.7.4->spacy) (4.12.1)\n",
      "Requirement already satisfied: charset-normalizer<4,>=2 in ./anaconda3/lib/python3.11/site-packages (from requests<3.0.0,>=2.13.0->spacy) (2.0.4)\n",
      "Requirement already satisfied: idna<4,>=2.5 in ./anaconda3/lib/python3.11/site-packages (from requests<3.0.0,>=2.13.0->spacy) (3.4)\n",
      "Requirement already satisfied: urllib3<3,>=1.21.1 in ./anaconda3/lib/python3.11/site-packages (from requests<3.0.0,>=2.13.0->spacy) (2.2.3)\n",
      "Requirement already satisfied: certifi>=2017.4.17 in ./anaconda3/lib/python3.11/site-packages (from requests<3.0.0,>=2.13.0->spacy) (2023.11.17)\n",
      "Requirement already satisfied: blis<0.8.0,>=0.7.8 in ./anaconda3/lib/python3.11/site-packages (from thinc<8.3.0,>=8.2.2->spacy) (0.7.11)\n",
      "Requirement already satisfied: confection<1.0.0,>=0.0.1 in ./anaconda3/lib/python3.11/site-packages (from thinc<8.3.0,>=8.2.2->spacy) (0.1.4)\n",
      "Requirement already satisfied: click<9.0.0,>=7.1.1 in ./anaconda3/lib/python3.11/site-packages (from typer<0.10.0,>=0.3.0->spacy) (8.0.2)\n",
      "Requirement already satisfied: cloudpathlib<0.17.0,>=0.7.0 in ./anaconda3/lib/python3.11/site-packages (from weasel<0.4.0,>=0.1.0->spacy) (0.16.0)\n",
      "Requirement already satisfied: MarkupSafe>=2.0 in ./anaconda3/lib/python3.11/site-packages (from jinja2->spacy) (2.1.1)\n",
      "\u001b[33mWARNING: Ignoring invalid distribution ~ensorflow (/home/darshit/anaconda3/lib/python3.11/site-packages)\u001b[0m\u001b[33m\n",
      "\u001b[0m\u001b[33mWARNING: Ignoring invalid distribution ~ensorflow (/home/darshit/anaconda3/lib/python3.11/site-packages)\u001b[0m\u001b[33m\n",
      "\u001b[0m\u001b[33mWARNING: Ignoring invalid distribution ~ensorflow (/home/darshit/anaconda3/lib/python3.11/site-packages)\u001b[0m\u001b[33m\n",
      "\u001b[0m\u001b[33mWARNING: Ignoring invalid distribution ~ensorflow (/home/darshit/anaconda3/lib/python3.11/site-packages)\u001b[0m\u001b[33m\n",
      "\u001b[0m/home/darshit/anaconda3/lib/python3.11/site-packages/torch/cuda/__init__.py:138: UserWarning: CUDA initialization: The NVIDIA driver on your system is too old (found version 11040). Please update your GPU driver by downloading and installing a new version from the URL: http://www.nvidia.com/Download/index.aspx Alternatively, go to: https://pytorch.org to install a PyTorch version that has been compiled with your version of the CUDA driver. (Triggered internally at ../c10/cuda/CUDAFunctions.cpp:108.)\n",
      "  return torch._C._cuda_getDeviceCount() > 0\n",
      "\u001b[33mWARNING: Ignoring invalid distribution ~ensorflow (/home/darshit/anaconda3/lib/python3.11/site-packages)\u001b[0m\u001b[33m\n",
      "\u001b[0mCollecting en-core-web-sm==3.7.1\n",
      "  Downloading https://github.com/explosion/spacy-models/releases/download/en_core_web_sm-3.7.1/en_core_web_sm-3.7.1-py3-none-any.whl (12.8 MB)\n",
      "\u001b[2K     \u001b[38;2;114;156;31m━━━━━━━━━━━━━━━━━━━━━━━━━━━━━━━━━━━━━━━━\u001b[0m \u001b[32m12.8/12.8 MB\u001b[0m \u001b[31m20.5 MB/s\u001b[0m eta \u001b[36m0:00:00\u001b[0mMB/s\u001b[0m eta \u001b[36m0:00:01\u001b[0m:01\u001b[0m\n",
      "\u001b[?25hRequirement already satisfied: spacy<3.8.0,>=3.7.2 in ./anaconda3/lib/python3.11/site-packages (from en-core-web-sm==3.7.1) (3.7.4)\n",
      "Requirement already satisfied: spacy-legacy<3.1.0,>=3.0.11 in ./anaconda3/lib/python3.11/site-packages (from spacy<3.8.0,>=3.7.2->en-core-web-sm==3.7.1) (3.0.12)\n",
      "Requirement already satisfied: spacy-loggers<2.0.0,>=1.0.0 in ./anaconda3/lib/python3.11/site-packages (from spacy<3.8.0,>=3.7.2->en-core-web-sm==3.7.1) (1.0.5)\n",
      "Requirement already satisfied: murmurhash<1.1.0,>=0.28.0 in ./anaconda3/lib/python3.11/site-packages (from spacy<3.8.0,>=3.7.2->en-core-web-sm==3.7.1) (1.0.10)\n",
      "Requirement already satisfied: cymem<2.1.0,>=2.0.2 in ./anaconda3/lib/python3.11/site-packages (from spacy<3.8.0,>=3.7.2->en-core-web-sm==3.7.1) (2.0.8)\n",
      "Requirement already satisfied: preshed<3.1.0,>=3.0.2 in ./anaconda3/lib/python3.11/site-packages (from spacy<3.8.0,>=3.7.2->en-core-web-sm==3.7.1) (3.0.9)\n",
      "Requirement already satisfied: thinc<8.3.0,>=8.2.2 in ./anaconda3/lib/python3.11/site-packages (from spacy<3.8.0,>=3.7.2->en-core-web-sm==3.7.1) (8.2.2)\n",
      "Requirement already satisfied: wasabi<1.2.0,>=0.9.1 in ./anaconda3/lib/python3.11/site-packages (from spacy<3.8.0,>=3.7.2->en-core-web-sm==3.7.1) (1.1.2)\n",
      "Requirement already satisfied: srsly<3.0.0,>=2.4.3 in ./anaconda3/lib/python3.11/site-packages (from spacy<3.8.0,>=3.7.2->en-core-web-sm==3.7.1) (2.4.8)\n",
      "Requirement already satisfied: catalogue<2.1.0,>=2.0.6 in ./anaconda3/lib/python3.11/site-packages (from spacy<3.8.0,>=3.7.2->en-core-web-sm==3.7.1) (2.0.10)\n",
      "Requirement already satisfied: weasel<0.4.0,>=0.1.0 in ./anaconda3/lib/python3.11/site-packages (from spacy<3.8.0,>=3.7.2->en-core-web-sm==3.7.1) (0.3.4)\n",
      "Requirement already satisfied: typer<0.10.0,>=0.3.0 in ./anaconda3/lib/python3.11/site-packages (from spacy<3.8.0,>=3.7.2->en-core-web-sm==3.7.1) (0.9.4)\n",
      "Requirement already satisfied: smart-open<7.0.0,>=5.2.1 in ./anaconda3/lib/python3.11/site-packages (from spacy<3.8.0,>=3.7.2->en-core-web-sm==3.7.1) (6.4.0)\n",
      "Requirement already satisfied: tqdm<5.0.0,>=4.38.0 in ./anaconda3/lib/python3.11/site-packages (from spacy<3.8.0,>=3.7.2->en-core-web-sm==3.7.1) (4.66.5)\n",
      "Requirement already satisfied: requests<3.0.0,>=2.13.0 in ./anaconda3/lib/python3.11/site-packages (from spacy<3.8.0,>=3.7.2->en-core-web-sm==3.7.1) (2.31.0)\n",
      "Requirement already satisfied: pydantic!=1.8,!=1.8.1,<3.0.0,>=1.7.4 in ./anaconda3/lib/python3.11/site-packages (from spacy<3.8.0,>=3.7.2->en-core-web-sm==3.7.1) (2.9.2)\n",
      "Requirement already satisfied: jinja2 in ./anaconda3/lib/python3.11/site-packages (from spacy<3.8.0,>=3.7.2->en-core-web-sm==3.7.1) (3.1.2)\n",
      "Requirement already satisfied: setuptools in ./anaconda3/lib/python3.11/site-packages (from spacy<3.8.0,>=3.7.2->en-core-web-sm==3.7.1) (65.5.1)\n",
      "Requirement already satisfied: packaging>=20.0 in ./anaconda3/lib/python3.11/site-packages (from spacy<3.8.0,>=3.7.2->en-core-web-sm==3.7.1) (23.2)\n",
      "Requirement already satisfied: langcodes<4.0.0,>=3.2.0 in ./anaconda3/lib/python3.11/site-packages (from spacy<3.8.0,>=3.7.2->en-core-web-sm==3.7.1) (3.3.0)\n",
      "Requirement already satisfied: numpy>=1.19.0 in ./anaconda3/lib/python3.11/site-packages (from spacy<3.8.0,>=3.7.2->en-core-web-sm==3.7.1) (1.23.5)\n",
      "Requirement already satisfied: annotated-types>=0.6.0 in ./anaconda3/lib/python3.11/site-packages (from pydantic!=1.8,!=1.8.1,<3.0.0,>=1.7.4->spacy<3.8.0,>=3.7.2->en-core-web-sm==3.7.1) (0.6.0)\n",
      "Requirement already satisfied: pydantic-core==2.23.4 in ./anaconda3/lib/python3.11/site-packages (from pydantic!=1.8,!=1.8.1,<3.0.0,>=1.7.4->spacy<3.8.0,>=3.7.2->en-core-web-sm==3.7.1) (2.23.4)\n",
      "Requirement already satisfied: typing-extensions>=4.6.1 in ./anaconda3/lib/python3.11/site-packages (from pydantic!=1.8,!=1.8.1,<3.0.0,>=1.7.4->spacy<3.8.0,>=3.7.2->en-core-web-sm==3.7.1) (4.12.1)\n",
      "Requirement already satisfied: charset-normalizer<4,>=2 in ./anaconda3/lib/python3.11/site-packages (from requests<3.0.0,>=2.13.0->spacy<3.8.0,>=3.7.2->en-core-web-sm==3.7.1) (2.0.4)\n",
      "Requirement already satisfied: idna<4,>=2.5 in ./anaconda3/lib/python3.11/site-packages (from requests<3.0.0,>=2.13.0->spacy<3.8.0,>=3.7.2->en-core-web-sm==3.7.1) (3.4)\n",
      "Requirement already satisfied: urllib3<3,>=1.21.1 in ./anaconda3/lib/python3.11/site-packages (from requests<3.0.0,>=2.13.0->spacy<3.8.0,>=3.7.2->en-core-web-sm==3.7.1) (2.2.3)\n",
      "Requirement already satisfied: certifi>=2017.4.17 in ./anaconda3/lib/python3.11/site-packages (from requests<3.0.0,>=2.13.0->spacy<3.8.0,>=3.7.2->en-core-web-sm==3.7.1) (2023.11.17)\n",
      "Requirement already satisfied: blis<0.8.0,>=0.7.8 in ./anaconda3/lib/python3.11/site-packages (from thinc<8.3.0,>=8.2.2->spacy<3.8.0,>=3.7.2->en-core-web-sm==3.7.1) (0.7.11)\n",
      "Requirement already satisfied: confection<1.0.0,>=0.0.1 in ./anaconda3/lib/python3.11/site-packages (from thinc<8.3.0,>=8.2.2->spacy<3.8.0,>=3.7.2->en-core-web-sm==3.7.1) (0.1.4)\n",
      "Requirement already satisfied: click<9.0.0,>=7.1.1 in ./anaconda3/lib/python3.11/site-packages (from typer<0.10.0,>=0.3.0->spacy<3.8.0,>=3.7.2->en-core-web-sm==3.7.1) (8.0.2)\n",
      "Requirement already satisfied: cloudpathlib<0.17.0,>=0.7.0 in ./anaconda3/lib/python3.11/site-packages (from weasel<0.4.0,>=0.1.0->spacy<3.8.0,>=3.7.2->en-core-web-sm==3.7.1) (0.16.0)\n",
      "Requirement already satisfied: MarkupSafe>=2.0 in ./anaconda3/lib/python3.11/site-packages (from jinja2->spacy<3.8.0,>=3.7.2->en-core-web-sm==3.7.1) (2.1.1)\n",
      "\u001b[33mWARNING: Ignoring invalid distribution ~ensorflow (/home/darshit/anaconda3/lib/python3.11/site-packages)\u001b[0m\u001b[33m\n",
      "\u001b[0m\u001b[33mWARNING: Ignoring invalid distribution ~ensorflow (/home/darshit/anaconda3/lib/python3.11/site-packages)\u001b[0m\u001b[33m\n",
      "\u001b[0m\u001b[33mWARNING: Ignoring invalid distribution ~ensorflow (/home/darshit/anaconda3/lib/python3.11/site-packages)\u001b[0m\u001b[33m\n",
      "\u001b[0m\u001b[33mWARNING: Ignoring invalid distribution ~ensorflow (/home/darshit/anaconda3/lib/python3.11/site-packages)\u001b[0m\u001b[33m\n",
      "\u001b[0m\u001b[38;5;2m✔ Download and installation successful\u001b[0m\n",
      "You can now load the package via spacy.load('en_core_web_sm')\n"
     ]
    },
    {
     "data": {
      "text/plain": [
       "['\\x1b[33mWARNING: Ignoring invalid distribution ~ensorflow (/home/darshit/anaconda3/lib/python3.11/site-packages)\\x1b[0m\\x1b[33m',\n",
       " '\\x1b[0m\\x1b[33mWARNING: Ignoring invalid distribution ~ensorflow (/home/darshit/anaconda3/lib/python3.11/site-packages)\\x1b[0m\\x1b[33m',\n",
       " '\\x1b[0m\\x1b[33mWARNING: Ignoring invalid distribution ~ensorflow (/home/darshit/anaconda3/lib/python3.11/site-packages)\\x1b[0m\\x1b[33m',\n",
       " \"\\x1b[0m\\x1b[31mERROR: pip's dependency resolver does not currently take into account all the packages that are installed. This behaviour is the source of the following dependency conflicts.\",\n",
       " 'grpcio-tools 1.65.1 requires protobuf<6.0dev,>=5.26.1, but you have protobuf 4.25.5 which is incompatible.',\n",
       " 'grpcio-health-checking 1.65.1 requires protobuf<6.0dev,>=5.26.1, but you have protobuf 4.25.5 which is incompatible.',\n",
       " 'mediapipe 0.10.10 requires protobuf<4,>=3.11, but you have protobuf 4.25.5 which is incompatible.',\n",
       " 'fastembed 0.3.6 requires tokenizers<1.0,>=0.15, but you have tokenizers 0.13.3 which is incompatible.',\n",
       " 'tf2onnx 1.16.1 requires protobuf~=3.20, but you have protobuf 4.25.5 which is incompatible.\\x1b[0m\\x1b[31m',\n",
       " '\\x1b[0m\\x1b[33mWARNING: Ignoring invalid distribution ~ensorflow (/home/darshit/anaconda3/lib/python3.11/site-packages)\\x1b[0m\\x1b[33m',\n",
       " '\\x1b[0m\\x1b[33mWARNING: Ignoring invalid distribution ~ensorflow (/home/darshit/anaconda3/lib/python3.11/site-packages)\\x1b[0m\\x1b[33m',\n",
       " '\\x1b[0m']"
      ]
     },
     "execution_count": 1,
     "metadata": {},
     "output_type": "execute_result"
    }
   ],
   "source": [
    "!pip install spacy\n",
    "!python -m spacy download en_core_web_sm\n",
    "!!pip install -q -U google-generativeai\n",
    "!pip install python-doctr"
   ]
  },
  {
   "cell_type": "code",
   "execution_count": 81,
   "id": "7b9eec3a",
   "metadata": {},
   "outputs": [],
   "source": [
    "import pytesseract\n",
    "from PIL import Image\n",
    "import PyPDF2\n",
    "\n",
    "def ocr_pdf(file_path):\n",
    "    # Open the PDF file using PyPDF2\n",
    "    pdf_file = open(file_path, 'rb')\n",
    "    pdf_reader = PyPDF2.PdfReader(pdf_file)\n",
    "    num_pages = pdf_reader.pages\n",
    "\n",
    "    # Create a list to store the extracted text\n",
    "    text = []\n",
    "\n",
    "    # Perform OCR on each page of the PDF file\n",
    "    for page_num in range(len(num_pages)):\n",
    "        page = pdf_reader.pages[page_num]\n",
    "        page_text = page.extract_text()\n",
    "        text.append(page_text)\n",
    "\n",
    "    # Close the PDF file\n",
    "    pdf_file.close()\n",
    "\n",
    "    return '\\n'.join(text)"
   ]
  },
  {
   "cell_type": "code",
   "execution_count": 82,
   "id": "8993aa2f",
   "metadata": {},
   "outputs": [],
   "source": [
    "file_path = \"/home/darshit/Downloads/MSR Sample Schizophrenia 2023.pdf\"\n",
    "input_text = \"\".join(ocr_pdf(file_path))"
   ]
  },
  {
   "cell_type": "code",
   "execution_count": 38,
   "id": "3d0b9c3e",
   "metadata": {},
   "outputs": [
    {
     "name": "stderr",
     "output_type": "stream",
     "text": [
      "/home/darshit/anaconda3/lib/python3.11/site-packages/torch/cuda/__init__.py:138: UserWarning: CUDA initialization: The NVIDIA driver on your system is too old (found version 11040). Please update your GPU driver by downloading and installing a new version from the URL: http://www.nvidia.com/Download/index.aspx Alternatively, go to: https://pytorch.org to install a PyTorch version that has been compiled with your version of the CUDA driver. (Triggered internally at ../c10/cuda/CUDAFunctions.cpp:108.)\n",
      "  return torch._C._cuda_getDeviceCount() > 0\n"
     ]
    },
    {
     "data": {
      "text/plain": [
       "True"
      ]
     },
     "execution_count": 38,
     "metadata": {},
     "output_type": "execute_result"
    }
   ],
   "source": [
    "import spacy\n",
    "from spacy import displacy\n",
    "from spacy.tokens import Span\n",
    "\n",
    "import google.generativeai as genai\n",
    "import os\n",
    "from dotenv import load_dotenv\n",
    "\n",
    "load_dotenv(\".env_google_api\")"
   ]
  },
  {
   "cell_type": "code",
   "execution_count": 39,
   "id": "57fbd354",
   "metadata": {},
   "outputs": [],
   "source": [
    "GOOGLE_API_KEY = os.environ['GOOGLE_API_KEY']\n",
    "genai.configure(api_key=GOOGLE_API_KEY)\n",
    "model = genai.GenerativeModel('gemini-pro')"
   ]
  },
  {
   "cell_type": "code",
   "execution_count": 83,
   "id": "bf9f653c",
   "metadata": {},
   "outputs": [],
   "source": [
    "system_prompt = \"\"\"\n",
    "you are a medical report anayzer.Analyse the given text and get it into following format, change the entity name and details according to the given .\n",
    "FORMAT: {\n",
    "    'Darshit Purohit': {'Patient', 'Diabetes Mellitus', 'Hypertension', 'Hyperlipidemia'},\n",
    "    'Diabetes Mellitus': {'Disease', 'Metformin'},\n",
    "    'Hypertension': {'Disease', 'Lisinopril'},\n",
    "    'Hyperlipidemia': {'Disease', 'Atorvastatin'},\n",
    "    'Metformin': {'Medication', 'Treatment'},\n",
    "    'Lisinopril': {'Medication', 'Treatment'},\n",
    "    'Atorvastatin': {'Medication', 'Treatment'},\n",
    "    'Blood Glucose Test': {'Medical Test'},\n",
    "    'Lipid Profile': {'Medical Test'},\n",
    "    'Blood Pressure': {'Medical Test'},\n",
    "    'LDL 100mg/dL': {'Medical Test Result'},\n",
    "    'Primary Care Physician': {'Healthcare Provider'},\n",
    "    'Endocrinologist': {'Healthcare Provider'},\n",
    "    'Cardiologist': {'Healthcare Provider'},\n",
    "    'Dr. Akash Chavan': {'Primary Care Physician'},\n",
    "    'Dr. Parth Maru': {'Endocrinologist'},\n",
    "    'Dr. Ayush Gupta': {'Cardiologist'}\n",
    "}\n",
    "\n",
    "TEXT:\n",
    "\n",
    "\"\"\""
   ]
  },
  {
   "cell_type": "code",
   "execution_count": 84,
   "id": "880fe043",
   "metadata": {},
   "outputs": [],
   "source": [
    "response = model.generate_content(system_prompt + input_text)\n",
    "entity_concept_dict = response.text"
   ]
  },
  {
   "cell_type": "code",
   "execution_count": 86,
   "id": "f58d3000",
   "metadata": {},
   "outputs": [],
   "source": [
    "entity_concept_dict = eval(entity_concept_dict)"
   ]
  },
  {
   "cell_type": "markdown",
   "id": "ccb33e8f",
   "metadata": {},
   "source": [
    "## Basic of neo4j language\n",
    "\n",
    "*Neo4j is a graph database that uses a query language called Cypher to interact with the database. Here are some basic concepts and syntax of Cypher:*\n",
    "\n",
    "**Basic Syntax**\n",
    "\n",
    "* MATCH clause: used to match patterns in the graph\n",
    "* CREATE clause: used to create new nodes or relationships\n",
    "* SET clause: used to set properties on nodes or relationships\n",
    "* RETURN clause: used to return the results of a query\n",
    "\n",
    "**Patterns**\n",
    "\n",
    "* node: represents a node in the graph\n",
    "* relationship: represents a relationship between two nodes\n",
    "* label: represents a label on a node or relationship\n",
    "* property: represents a property on a node or relationship\n",
    "\n",
    "**Example Queries**\n",
    "\n",
    "* MATCH (n:Person {name: \"John\"}) RETURN n: matches a node with label Person and property name equal to \"John\" and returns the node\n",
    "* CREATE (n:Person {name: \"Jane\"}): creates a new node with label Person and property name equal to \"Jane\"\n",
    "* MATCH (n:Person)-[:FRIEND]->(m:Person) RETURN n, m: matches two nodes with label Person that are connected by a relationship with label FRIEND and returns both nodes\n",
    "* MATCH (n:Person {name: \"John\"})-[:FRIEND]->(m:Person) RETURN m: matches a node with label Person and property name equal to \"John\" and returns the node that is connected to it by a relationship with label FRIEND\n",
    "\n",
    "**Cypher Functions**\n",
    "\n",
    "* START: used to start a pattern match\n",
    "* END: used to end a pattern match\n",
    "* RETURN: used to return the results of a query\n",
    "* WITH: used to store intermediate results in a query\n",
    "\n",
    "**Example Cypher Functions**\n",
    "\n",
    "* START n=node(*) MATCH (n)-[:FRIEND]->(m) RETURN n, m: starts a pattern match at all nodes and matches two nodes that are connected by a relationship with label FRIEND and returns both nodes\n",
    "* WITH n, m MATCH (n)-[:FRIEND]->(o) RETURN o: starts a pattern match at the nodes returned by the previous query and matches a node that is connected to one of the nodes by a relationship with label FRIEND and returns the node"
   ]
  },
  {
   "cell_type": "code",
   "execution_count": 14,
   "id": "3bad4ec2",
   "metadata": {},
   "outputs": [
    {
     "name": "stdout",
     "output_type": "stream",
     "text": [
      "\u001b[33mWARNING: Ignoring invalid distribution ~ensorflow (/home/darshit/anaconda3/lib/python3.11/site-packages)\u001b[0m\u001b[33m\n",
      "\u001b[0mCollecting neo4j\n",
      "  Downloading neo4j-5.25.0-py3-none-any.whl.metadata (5.7 kB)\n",
      "Requirement already satisfied: pytz in ./anaconda3/lib/python3.11/site-packages (from neo4j) (2023.3.post1)\n",
      "Downloading neo4j-5.25.0-py3-none-any.whl (296 kB)\n",
      "\u001b[33mWARNING: Ignoring invalid distribution ~ensorflow (/home/darshit/anaconda3/lib/python3.11/site-packages)\u001b[0m\u001b[33m\n",
      "\u001b[0mInstalling collected packages: neo4j\n",
      "\u001b[33mWARNING: Ignoring invalid distribution ~ensorflow (/home/darshit/anaconda3/lib/python3.11/site-packages)\u001b[0m\u001b[33m\n",
      "\u001b[0mSuccessfully installed neo4j-5.25.0\n",
      "\u001b[33mWARNING: Ignoring invalid distribution ~ensorflow (/home/darshit/anaconda3/lib/python3.11/site-packages)\u001b[0m\u001b[33m\n",
      "\u001b[0m\u001b[33mWARNING: Ignoring invalid distribution ~ensorflow (/home/darshit/anaconda3/lib/python3.11/site-packages)\u001b[0m\u001b[33m\n",
      "\u001b[0m"
     ]
    }
   ],
   "source": [
    "!pip install neo4j"
   ]
  },
  {
   "cell_type": "code",
   "execution_count": 88,
   "id": "966fde14",
   "metadata": {},
   "outputs": [],
   "source": [
    "import neo4j\n",
    "from neo4j import GraphDatabase\n",
    "\n",
    "# Create a new graph database instance\n",
    "driver = GraphDatabase.driver(\"bolt://localhost:7687\", auth=(\"darshit\", \"password\"))"
   ]
  },
  {
   "cell_type": "code",
   "execution_count": 89,
   "id": "c69e8e02",
   "metadata": {},
   "outputs": [],
   "source": [
    "# Create a new session\n",
    "session = driver.session()\n",
    "\n",
    "# Create nodes for patients, diseases, medications, and healthcare providers\n",
    "for node, labels in entity_concept_dict.items():\n",
    "    if len(labels) > 1:\n",
    "        label = list(labels)[-1]\n",
    "    else:\n",
    "        label = list(labels)[0]\n",
    "#     params = node\n",
    "# #     CREATE (ee:Person {name: 'Emil', from: 'Sweden', kloutScore: 99})\n",
    "    session.run(\"CREATE (n:{} {{name:'{}'}})\".format(label.replace(' ','').replace(',',''), node))"
   ]
  },
  {
   "cell_type": "code",
   "execution_count": 90,
   "id": "fff6c87a",
   "metadata": {},
   "outputs": [],
   "source": [
    "# Create relationships between nodes\n",
    "for node, labels in entity_concept_dict.items():\n",
    "    for label in labels:\n",
    "        if label == 'Patient':\n",
    "            for other_node, other_labels in entity_concept_dict.items():\n",
    "                if other_node != node and 'Disease' in other_labels:\n",
    "                    session.run(\"MATCH (n {name: $name}) MATCH (o {name: $other_node}) CREATE (n)-[:HAS_DISEASE]->(o)\", name=node, other_node=other_node)\n",
    "        elif label == 'Disease':\n",
    "            for other_node, other_labels in entity_concept_dict.items():\n",
    "                if other_node != node and 'Medication' in other_labels:\n",
    "                    session.run(\"MATCH (n {name: $name}) MATCH (o {name: $other_node}) CREATE (n)-[:TREATED_BY]->(o)\", name=node, other_node=other_node)\n",
    "        elif label == 'Medication':\n",
    "            for other_node, other_labels in entity_concept_dict.items():\n",
    "                if other_node != node and 'Treatment' in other_labels:\n",
    "                    session.run(\"MATCH (n {name: $name}) MATCH (o {name: $other_node}) CREATE (n)-[:USES]->(o)\", name=node, other_node=other_node)\n",
    "        elif label == 'Healthcare Provider':\n",
    "            for other_node, other_labels in entity_concept_dict.items():\n",
    "                if other_node != node and 'Patient' in other_labels:\n",
    "                    session.run(\"MATCH (n {name: $name}) MATCH (o {name: $other_node}) CREATE (n)-[:TREATS]->(o)\", name=node, other_node=other_node)\n",
    "\n",
    "# Close the session\n",
    "session.close()"
   ]
  }
 ],
 "metadata": {
  "kernelspec": {
   "display_name": "Python 3 (ipykernel)",
   "language": "python",
   "name": "python3"
  },
  "language_info": {
   "codemirror_mode": {
    "name": "ipython",
    "version": 3
   },
   "file_extension": ".py",
   "mimetype": "text/x-python",
   "name": "python",
   "nbconvert_exporter": "python",
   "pygments_lexer": "ipython3",
   "version": "3.11.5"
  }
 },
 "nbformat": 4,
 "nbformat_minor": 5
}
