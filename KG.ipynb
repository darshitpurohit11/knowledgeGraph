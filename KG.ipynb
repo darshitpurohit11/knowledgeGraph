{
 "cells": [
  {
   "cell_type": "code",
   "execution_count": 1,
   "id": "35be8730",
   "metadata": {},
   "outputs": [],
   "source": [
    "input_text = \"\"\"\n",
    "Medical Report:\n",
    "\n",
    "Patient Information:\n",
    "\n",
    "Name: John Doe\n",
    "Date of Birth: 1990-02-12\n",
    "Sex: Male\n",
    "Medical History:\n",
    "\n",
    "Diabetes Mellitus (Type 2) diagnosed in 2015\n",
    "Hypertension diagnosed in 2018\n",
    "Hyperlipidemia diagnosed in 2020\n",
    "Current Medications:\n",
    "\n",
    "Metformin 500mg twice daily\n",
    "Lisinopril 10mg once daily\n",
    "Atorvastatin 20mg once daily\n",
    "Recent Medical Tests:\n",
    "\n",
    "Blood Glucose Test: 120mg/dL (normal range: 70-100mg/dL)\n",
    "Lipid Profile: Total Cholesterol 180mg/dL, HDL 40mg/dL, LDL 100mg/dL\n",
    "Blood Pressure: 130/80mmHg (normal range: 120/80mmHg)\n",
    "Diagnosis:\n",
    "\n",
    "Diabetes Mellitus (Type 2)\n",
    "Hypertension\n",
    "Hyperlipidemia\n",
    "Treatment Plan:\n",
    "\n",
    "Lifestyle modifications: diet and exercise\n",
    "Medications: Metformin, Lisinopril, Atorvastatin\n",
    "Follow-up appointments: every 3 months\n",
    "Healthcare Providers:\n",
    "\n",
    "Primary Care Physician: Dr. Jane Smith\n",
    "Endocrinologist: Dr. John Lee\n",
    "Cardiologist: Dr. Michael Brown\n",
    "\"\"\""
   ]
  },
  {
   "cell_type": "code",
   "execution_count": 3,
   "id": "fb5855d3",
   "metadata": {},
   "outputs": [
    {
     "name": "stdout",
     "output_type": "stream",
     "text": [
      "\u001b[33mWARNING: Ignoring invalid distribution ~ensorflow (/home/darshit/anaconda3/lib/python3.11/site-packages)\u001b[0m\u001b[33m\n",
      "\u001b[0mRequirement already satisfied: spacy in ./anaconda3/lib/python3.11/site-packages (3.7.4)\n",
      "Requirement already satisfied: spacy-legacy<3.1.0,>=3.0.11 in ./anaconda3/lib/python3.11/site-packages (from spacy) (3.0.12)\n",
      "Requirement already satisfied: spacy-loggers<2.0.0,>=1.0.0 in ./anaconda3/lib/python3.11/site-packages (from spacy) (1.0.5)\n",
      "Requirement already satisfied: murmurhash<1.1.0,>=0.28.0 in ./anaconda3/lib/python3.11/site-packages (from spacy) (1.0.10)\n",
      "Requirement already satisfied: cymem<2.1.0,>=2.0.2 in ./anaconda3/lib/python3.11/site-packages (from spacy) (2.0.8)\n",
      "Requirement already satisfied: preshed<3.1.0,>=3.0.2 in ./anaconda3/lib/python3.11/site-packages (from spacy) (3.0.9)\n",
      "Requirement already satisfied: thinc<8.3.0,>=8.2.2 in ./anaconda3/lib/python3.11/site-packages (from spacy) (8.2.2)\n",
      "Requirement already satisfied: wasabi<1.2.0,>=0.9.1 in ./anaconda3/lib/python3.11/site-packages (from spacy) (1.1.2)\n",
      "Requirement already satisfied: srsly<3.0.0,>=2.4.3 in ./anaconda3/lib/python3.11/site-packages (from spacy) (2.4.8)\n",
      "Requirement already satisfied: catalogue<2.1.0,>=2.0.6 in ./anaconda3/lib/python3.11/site-packages (from spacy) (2.0.10)\n",
      "Requirement already satisfied: weasel<0.4.0,>=0.1.0 in ./anaconda3/lib/python3.11/site-packages (from spacy) (0.3.4)\n",
      "Collecting typer<0.10.0,>=0.3.0 (from spacy)\n",
      "  Downloading typer-0.9.4-py3-none-any.whl.metadata (14 kB)\n",
      "Requirement already satisfied: smart-open<7.0.0,>=5.2.1 in ./anaconda3/lib/python3.11/site-packages (from spacy) (6.4.0)\n",
      "Requirement already satisfied: tqdm<5.0.0,>=4.38.0 in ./anaconda3/lib/python3.11/site-packages (from spacy) (4.66.5)\n",
      "Requirement already satisfied: requests<3.0.0,>=2.13.0 in ./anaconda3/lib/python3.11/site-packages (from spacy) (2.31.0)\n",
      "Requirement already satisfied: pydantic!=1.8,!=1.8.1,<3.0.0,>=1.7.4 in ./anaconda3/lib/python3.11/site-packages (from spacy) (2.9.2)\n",
      "Requirement already satisfied: jinja2 in ./anaconda3/lib/python3.11/site-packages (from spacy) (3.1.2)\n",
      "Requirement already satisfied: setuptools in ./anaconda3/lib/python3.11/site-packages (from spacy) (65.5.1)\n",
      "Requirement already satisfied: packaging>=20.0 in ./anaconda3/lib/python3.11/site-packages (from spacy) (23.2)\n",
      "Requirement already satisfied: langcodes<4.0.0,>=3.2.0 in ./anaconda3/lib/python3.11/site-packages (from spacy) (3.3.0)\n",
      "Requirement already satisfied: numpy>=1.19.0 in ./anaconda3/lib/python3.11/site-packages (from spacy) (1.23.5)\n",
      "Requirement already satisfied: annotated-types>=0.6.0 in ./anaconda3/lib/python3.11/site-packages (from pydantic!=1.8,!=1.8.1,<3.0.0,>=1.7.4->spacy) (0.6.0)\n",
      "Requirement already satisfied: pydantic-core==2.23.4 in ./anaconda3/lib/python3.11/site-packages (from pydantic!=1.8,!=1.8.1,<3.0.0,>=1.7.4->spacy) (2.23.4)\n",
      "Requirement already satisfied: typing-extensions>=4.6.1 in ./anaconda3/lib/python3.11/site-packages (from pydantic!=1.8,!=1.8.1,<3.0.0,>=1.7.4->spacy) (4.12.1)\n",
      "Requirement already satisfied: charset-normalizer<4,>=2 in ./anaconda3/lib/python3.11/site-packages (from requests<3.0.0,>=2.13.0->spacy) (2.0.4)\n",
      "Requirement already satisfied: idna<4,>=2.5 in ./anaconda3/lib/python3.11/site-packages (from requests<3.0.0,>=2.13.0->spacy) (3.4)\n",
      "Requirement already satisfied: urllib3<3,>=1.21.1 in ./anaconda3/lib/python3.11/site-packages (from requests<3.0.0,>=2.13.0->spacy) (2.2.3)\n",
      "Requirement already satisfied: certifi>=2017.4.17 in ./anaconda3/lib/python3.11/site-packages (from requests<3.0.0,>=2.13.0->spacy) (2023.11.17)\n",
      "Requirement already satisfied: blis<0.8.0,>=0.7.8 in ./anaconda3/lib/python3.11/site-packages (from thinc<8.3.0,>=8.2.2->spacy) (0.7.11)\n",
      "Requirement already satisfied: confection<1.0.0,>=0.0.1 in ./anaconda3/lib/python3.11/site-packages (from thinc<8.3.0,>=8.2.2->spacy) (0.1.4)\n",
      "Requirement already satisfied: click<9.0.0,>=7.1.1 in ./anaconda3/lib/python3.11/site-packages (from typer<0.10.0,>=0.3.0->spacy) (8.0.2)\n",
      "Requirement already satisfied: cloudpathlib<0.17.0,>=0.7.0 in ./anaconda3/lib/python3.11/site-packages (from weasel<0.4.0,>=0.1.0->spacy) (0.16.0)\n",
      "Requirement already satisfied: MarkupSafe>=2.0 in ./anaconda3/lib/python3.11/site-packages (from jinja2->spacy) (2.1.1)\n",
      "Downloading typer-0.9.4-py3-none-any.whl (45 kB)\n",
      "\u001b[33mWARNING: Ignoring invalid distribution ~ensorflow (/home/darshit/anaconda3/lib/python3.11/site-packages)\u001b[0m\u001b[33m\n",
      "\u001b[0mInstalling collected packages: typer\n",
      "  Attempting uninstall: typer\n",
      "    Found existing installation: typer 0.12.5\n",
      "    Uninstalling typer-0.12.5:\n",
      "      Successfully uninstalled typer-0.12.5\n",
      "\u001b[33mWARNING: Ignoring invalid distribution ~ensorflow (/home/darshit/anaconda3/lib/python3.11/site-packages)\u001b[0m\u001b[33m\n",
      "\u001b[0m\u001b[31mERROR: pip's dependency resolver does not currently take into account all the packages that are installed. This behaviour is the source of the following dependency conflicts.\n",
      "tts 0.22.0 requires numpy>=1.24.3; python_version > \"3.10\", but you have numpy 1.23.5 which is incompatible.\n",
      "gradio 4.44.0 requires typer<1.0,>=0.12; sys_platform != \"emscripten\", but you have typer 0.9.4 which is incompatible.\u001b[0m\u001b[31m\n",
      "\u001b[0mSuccessfully installed typer-0.9.4\n",
      "\u001b[33mWARNING: Ignoring invalid distribution ~ensorflow (/home/darshit/anaconda3/lib/python3.11/site-packages)\u001b[0m\u001b[33m\n",
      "\u001b[0m\u001b[33mWARNING: Ignoring invalid distribution ~ensorflow (/home/darshit/anaconda3/lib/python3.11/site-packages)\u001b[0m\u001b[33m\n",
      "\u001b[0m/home/darshit/anaconda3/lib/python3.11/site-packages/torch/cuda/__init__.py:138: UserWarning: CUDA initialization: The NVIDIA driver on your system is too old (found version 11040). Please update your GPU driver by downloading and installing a new version from the URL: http://www.nvidia.com/Download/index.aspx Alternatively, go to: https://pytorch.org to install a PyTorch version that has been compiled with your version of the CUDA driver. (Triggered internally at ../c10/cuda/CUDAFunctions.cpp:108.)\n",
      "  return torch._C._cuda_getDeviceCount() > 0\n",
      "\u001b[33mWARNING: Ignoring invalid distribution ~ensorflow (/home/darshit/anaconda3/lib/python3.11/site-packages)\u001b[0m\u001b[33m\n",
      "\u001b[0mCollecting en-core-web-sm==3.7.1\n",
      "  Downloading https://github.com/explosion/spacy-models/releases/download/en_core_web_sm-3.7.1/en_core_web_sm-3.7.1-py3-none-any.whl (12.8 MB)\n",
      "\u001b[2K     \u001b[38;2;114;156;31m━━━━━━━━━━━━━━━━━━━━━━━━━━━━━━━━━━━━━━━━\u001b[0m \u001b[32m12.8/12.8 MB\u001b[0m \u001b[31m22.4 MB/s\u001b[0m eta \u001b[36m0:00:00\u001b[0m MB/s\u001b[0m eta \u001b[36m0:00:01\u001b[0m01\u001b[0m\n",
      "\u001b[?25hRequirement already satisfied: spacy<3.8.0,>=3.7.2 in ./anaconda3/lib/python3.11/site-packages (from en-core-web-sm==3.7.1) (3.7.4)\n",
      "Requirement already satisfied: spacy-legacy<3.1.0,>=3.0.11 in ./anaconda3/lib/python3.11/site-packages (from spacy<3.8.0,>=3.7.2->en-core-web-sm==3.7.1) (3.0.12)\n",
      "Requirement already satisfied: spacy-loggers<2.0.0,>=1.0.0 in ./anaconda3/lib/python3.11/site-packages (from spacy<3.8.0,>=3.7.2->en-core-web-sm==3.7.1) (1.0.5)\n",
      "Requirement already satisfied: murmurhash<1.1.0,>=0.28.0 in ./anaconda3/lib/python3.11/site-packages (from spacy<3.8.0,>=3.7.2->en-core-web-sm==3.7.1) (1.0.10)\n",
      "Requirement already satisfied: cymem<2.1.0,>=2.0.2 in ./anaconda3/lib/python3.11/site-packages (from spacy<3.8.0,>=3.7.2->en-core-web-sm==3.7.1) (2.0.8)\n",
      "Requirement already satisfied: preshed<3.1.0,>=3.0.2 in ./anaconda3/lib/python3.11/site-packages (from spacy<3.8.0,>=3.7.2->en-core-web-sm==3.7.1) (3.0.9)\n",
      "Requirement already satisfied: thinc<8.3.0,>=8.2.2 in ./anaconda3/lib/python3.11/site-packages (from spacy<3.8.0,>=3.7.2->en-core-web-sm==3.7.1) (8.2.2)\n",
      "Requirement already satisfied: wasabi<1.2.0,>=0.9.1 in ./anaconda3/lib/python3.11/site-packages (from spacy<3.8.0,>=3.7.2->en-core-web-sm==3.7.1) (1.1.2)\n",
      "Requirement already satisfied: srsly<3.0.0,>=2.4.3 in ./anaconda3/lib/python3.11/site-packages (from spacy<3.8.0,>=3.7.2->en-core-web-sm==3.7.1) (2.4.8)\n",
      "Requirement already satisfied: catalogue<2.1.0,>=2.0.6 in ./anaconda3/lib/python3.11/site-packages (from spacy<3.8.0,>=3.7.2->en-core-web-sm==3.7.1) (2.0.10)\n",
      "Requirement already satisfied: weasel<0.4.0,>=0.1.0 in ./anaconda3/lib/python3.11/site-packages (from spacy<3.8.0,>=3.7.2->en-core-web-sm==3.7.1) (0.3.4)\n",
      "Requirement already satisfied: typer<0.10.0,>=0.3.0 in ./anaconda3/lib/python3.11/site-packages (from spacy<3.8.0,>=3.7.2->en-core-web-sm==3.7.1) (0.9.4)\n",
      "Requirement already satisfied: smart-open<7.0.0,>=5.2.1 in ./anaconda3/lib/python3.11/site-packages (from spacy<3.8.0,>=3.7.2->en-core-web-sm==3.7.1) (6.4.0)\n",
      "Requirement already satisfied: tqdm<5.0.0,>=4.38.0 in ./anaconda3/lib/python3.11/site-packages (from spacy<3.8.0,>=3.7.2->en-core-web-sm==3.7.1) (4.66.5)\n",
      "Requirement already satisfied: requests<3.0.0,>=2.13.0 in ./anaconda3/lib/python3.11/site-packages (from spacy<3.8.0,>=3.7.2->en-core-web-sm==3.7.1) (2.31.0)\n",
      "Requirement already satisfied: pydantic!=1.8,!=1.8.1,<3.0.0,>=1.7.4 in ./anaconda3/lib/python3.11/site-packages (from spacy<3.8.0,>=3.7.2->en-core-web-sm==3.7.1) (2.9.2)\n",
      "Requirement already satisfied: jinja2 in ./anaconda3/lib/python3.11/site-packages (from spacy<3.8.0,>=3.7.2->en-core-web-sm==3.7.1) (3.1.2)\n",
      "Requirement already satisfied: setuptools in ./anaconda3/lib/python3.11/site-packages (from spacy<3.8.0,>=3.7.2->en-core-web-sm==3.7.1) (65.5.1)\n",
      "Requirement already satisfied: packaging>=20.0 in ./anaconda3/lib/python3.11/site-packages (from spacy<3.8.0,>=3.7.2->en-core-web-sm==3.7.1) (23.2)\n",
      "Requirement already satisfied: langcodes<4.0.0,>=3.2.0 in ./anaconda3/lib/python3.11/site-packages (from spacy<3.8.0,>=3.7.2->en-core-web-sm==3.7.1) (3.3.0)\n",
      "Requirement already satisfied: numpy>=1.19.0 in ./anaconda3/lib/python3.11/site-packages (from spacy<3.8.0,>=3.7.2->en-core-web-sm==3.7.1) (1.23.5)\n",
      "Requirement already satisfied: annotated-types>=0.6.0 in ./anaconda3/lib/python3.11/site-packages (from pydantic!=1.8,!=1.8.1,<3.0.0,>=1.7.4->spacy<3.8.0,>=3.7.2->en-core-web-sm==3.7.1) (0.6.0)\n",
      "Requirement already satisfied: pydantic-core==2.23.4 in ./anaconda3/lib/python3.11/site-packages (from pydantic!=1.8,!=1.8.1,<3.0.0,>=1.7.4->spacy<3.8.0,>=3.7.2->en-core-web-sm==3.7.1) (2.23.4)\n",
      "Requirement already satisfied: typing-extensions>=4.6.1 in ./anaconda3/lib/python3.11/site-packages (from pydantic!=1.8,!=1.8.1,<3.0.0,>=1.7.4->spacy<3.8.0,>=3.7.2->en-core-web-sm==3.7.1) (4.12.1)\n",
      "Requirement already satisfied: charset-normalizer<4,>=2 in ./anaconda3/lib/python3.11/site-packages (from requests<3.0.0,>=2.13.0->spacy<3.8.0,>=3.7.2->en-core-web-sm==3.7.1) (2.0.4)\n",
      "Requirement already satisfied: idna<4,>=2.5 in ./anaconda3/lib/python3.11/site-packages (from requests<3.0.0,>=2.13.0->spacy<3.8.0,>=3.7.2->en-core-web-sm==3.7.1) (3.4)\n",
      "Requirement already satisfied: urllib3<3,>=1.21.1 in ./anaconda3/lib/python3.11/site-packages (from requests<3.0.0,>=2.13.0->spacy<3.8.0,>=3.7.2->en-core-web-sm==3.7.1) (2.2.3)\n",
      "Requirement already satisfied: certifi>=2017.4.17 in ./anaconda3/lib/python3.11/site-packages (from requests<3.0.0,>=2.13.0->spacy<3.8.0,>=3.7.2->en-core-web-sm==3.7.1) (2023.11.17)\n",
      "Requirement already satisfied: blis<0.8.0,>=0.7.8 in ./anaconda3/lib/python3.11/site-packages (from thinc<8.3.0,>=8.2.2->spacy<3.8.0,>=3.7.2->en-core-web-sm==3.7.1) (0.7.11)\n",
      "Requirement already satisfied: confection<1.0.0,>=0.0.1 in ./anaconda3/lib/python3.11/site-packages (from thinc<8.3.0,>=8.2.2->spacy<3.8.0,>=3.7.2->en-core-web-sm==3.7.1) (0.1.4)\n",
      "Requirement already satisfied: click<9.0.0,>=7.1.1 in ./anaconda3/lib/python3.11/site-packages (from typer<0.10.0,>=0.3.0->spacy<3.8.0,>=3.7.2->en-core-web-sm==3.7.1) (8.0.2)\n",
      "Requirement already satisfied: cloudpathlib<0.17.0,>=0.7.0 in ./anaconda3/lib/python3.11/site-packages (from weasel<0.4.0,>=0.1.0->spacy<3.8.0,>=3.7.2->en-core-web-sm==3.7.1) (0.16.0)\n",
      "Requirement already satisfied: MarkupSafe>=2.0 in ./anaconda3/lib/python3.11/site-packages (from jinja2->spacy<3.8.0,>=3.7.2->en-core-web-sm==3.7.1) (2.1.1)\n",
      "\u001b[33mWARNING: Ignoring invalid distribution ~ensorflow (/home/darshit/anaconda3/lib/python3.11/site-packages)\u001b[0m\u001b[33m\n",
      "\u001b[0mInstalling collected packages: en-core-web-sm\n",
      "\u001b[33mWARNING: Ignoring invalid distribution ~ensorflow (/home/darshit/anaconda3/lib/python3.11/site-packages)\u001b[0m\u001b[33m\n",
      "\u001b[0mSuccessfully installed en-core-web-sm-3.7.1\n",
      "\u001b[33mWARNING: Ignoring invalid distribution ~ensorflow (/home/darshit/anaconda3/lib/python3.11/site-packages)\u001b[0m\u001b[33m\n",
      "\u001b[0m\u001b[33mWARNING: Ignoring invalid distribution ~ensorflow (/home/darshit/anaconda3/lib/python3.11/site-packages)\u001b[0m\u001b[33m\n",
      "\u001b[0m\u001b[38;5;2m✔ Download and installation successful\u001b[0m\n",
      "You can now load the package via spacy.load('en_core_web_sm')\n"
     ]
    }
   ],
   "source": [
    "!pip install spacy\n",
    "!python -m spacy download en_core_web_sm"
   ]
  },
  {
   "cell_type": "code",
   "execution_count": 6,
   "id": "0f0d4851",
   "metadata": {},
   "outputs": [
    {
     "name": "stdout",
     "output_type": "stream",
     "text": [
      "[('John Doe\\nDate of Birth', 'PERSON'), ('1990-02-12', 'DATE'), ('2015', 'DATE'), ('2018', 'DATE'), ('Hyperlipidemia', 'PERSON'), ('2020', 'DATE'), ('Metformin 500', 'PERSON'), ('daily', 'DATE'), ('Lisinopril 10', 'LAW'), ('Atorvastatin 20', 'PERSON'), ('Blood Glucose Test', 'PERSON'), ('70', 'CARDINAL'), ('HDL', 'ORG'), ('LDL 100mg', 'PERSON'), ('130/80mmHg', 'CARDINAL'), ('120/80mmHg', 'CARDINAL'), ('Hypertension\\nHyperlipidemia\\nTreatment Plan:\\n\\nLifestyle', 'LAW'), ('Lisinopril', 'PERSON'), ('Atorvastatin\\nFollow', 'PERSON'), ('every 3 months', 'DATE'), ('Jane Smith', 'PERSON'), ('Endocrinologist', 'ORG'), ('John Lee\\n', 'PERSON'), ('Cardiologist', 'NORP'), ('Michael Brown', 'PERSON')]\n"
     ]
    }
   ],
   "source": [
    "import spacy\n",
    "from spacy import displacy\n",
    "from spacy.tokens import Span\n",
    "\n",
    "# Load the English language model\n",
    "nlp = spacy.load(\"en_core_web_sm\")\n",
    "\n",
    "# Process the medical report text\n",
    "doc = nlp(input_text)\n",
    "\n",
    "# Extract entities\n",
    "entities = [(ent.text, ent.label_) for ent in doc.ents]\n",
    "print(entities)"
   ]
  },
  {
   "cell_type": "code",
   "execution_count": 7,
   "id": "7f07c166",
   "metadata": {},
   "outputs": [
    {
     "name": "stdout",
     "output_type": "stream",
     "text": [
      "[('Information', 'NOUN'), ('Name', 'NOUN'), ('Sex', 'NOUN'), ('Diabetes', 'VERB'), ('diagnosed', 'VERB'), ('diagnosed', 'VERB'), ('diagnosed', 'VERB'), ('Current', 'ADJ'), ('Medications', 'NOUN'), ('daily', 'ADJ'), ('daily', 'ADJ'), ('Blood', 'NOUN'), ('normal', 'ADJ'), ('range', 'NOUN'), ('100mg', 'ADJ'), ('Blood', 'NOUN'), ('Pressure', 'NOUN'), ('normal', 'ADJ'), ('range', 'NOUN'), ('Diagnosis', 'NOUN'), ('Diabetes', 'VERB'), ('modifications', 'NOUN'), ('diet', 'NOUN'), ('exercise', 'VERB'), ('Medications', 'NOUN'), ('Follow', 'VERB'), ('appointments', 'NOUN'), ('months', 'NOUN')]\n"
     ]
    }
   ],
   "source": [
    "# Extract concepts\n",
    "concepts = [(token.text, token.pos_) for token in doc if token.pos_ in [\"NOUN\", \"VERB\", \"ADJ\"]]\n",
    "print(concepts)"
   ]
  },
  {
   "cell_type": "code",
   "execution_count": 8,
   "id": "def70b1f",
   "metadata": {},
   "outputs": [
    {
     "name": "stdout",
     "output_type": "stream",
     "text": [
      "{'John Doe\\nDate of Birth': 'Information', 'Hyperlipidemia': 'Information', 'Metformin 500': 'Information', 'Atorvastatin 20': 'Information', 'Blood Glucose Test': 'Information', 'LDL 100mg': 'Information', 'Lisinopril': 'Information', 'Atorvastatin\\nFollow': 'Information', 'Jane Smith': 'Information', 'John Lee\\n': 'Information', 'Michael Brown': 'Information'}\n"
     ]
    }
   ],
   "source": [
    "# Create a dictionary to store the extracted entities and concepts\n",
    "entity_concept_dict = {}\n",
    "\n",
    "# Iterate through the entities and concepts\n",
    "for entity, entity_label in entities:\n",
    "    for concept, concept_pos in concepts:\n",
    "        if entity_label == \"PERSON\" and concept_pos == \"NOUN\":\n",
    "            # Create a new entry in the dictionary\n",
    "            entity_concept_dict[entity] = concept\n",
    "            break\n",
    "\n",
    "print(entity_concept_dict)"
   ]
  },
  {
   "cell_type": "markdown",
   "id": "a564e2f6",
   "metadata": {},
   "source": [
    "### Trial for now, this need to be done by following\n",
    "* extracting text from document >> LLM ( extract or prepare the dict to have the struct )\n",
    "\n",
    "Dict was not generated using the above cell, this just a sample to understand the output that is needed. **BEING USED in the next cell as input**"
   ]
  },
  {
   "cell_type": "code",
   "execution_count": 66,
   "id": "86c30d85",
   "metadata": {},
   "outputs": [],
   "source": [
    "entity_concept_dict = {\n",
    "    'Darshit Purohit': {'Patient', 'Diabetes Mellitus', 'Hypertension', 'Hyperlipidemia'},\n",
    "    'Diabetes Mellitus': {'Disease', 'Metformin'},\n",
    "    'Hypertension': {'Disease', 'Lisinopril'},\n",
    "    'Hyperlipidemia': {'Disease', 'Atorvastatin'},\n",
    "    'Metformin': {'Medication', 'Treatment'},\n",
    "    'Lisinopril': {'Medication', 'Treatment'},\n",
    "    'Atorvastatin': {'Medication', 'Treatment'},\n",
    "    'Blood Glucose Test': {'Medical Test'},\n",
    "    'Lipid Profile': {'Medical Test'},\n",
    "    'Blood Pressure': {'Medical Test'},\n",
    "    'LDL 100mg/dL': {'Medical Test Result'},\n",
    "    'Primary Care Physician': {'Healthcare Provider'},\n",
    "    'Endocrinologist': {'Healthcare Provider'},\n",
    "    'Cardiologist': {'Healthcare Provider'},\n",
    "    'Dr. Akash Chavan': {'Primary Care Physician'},\n",
    "    'Dr. Parth Maru': {'Endocrinologist'},\n",
    "    'Dr. Ayush Gupta': {'Cardiologist'}\n",
    "}"
   ]
  },
  {
   "cell_type": "markdown",
   "id": "6e5c0cab",
   "metadata": {},
   "source": [
    "## Basic of neo4j language\n",
    "\n",
    "*Neo4j is a graph database that uses a query language called Cypher to interact with the database. Here are some basic concepts and syntax of Cypher:*\n",
    "\n",
    "**Basic Syntax**\n",
    "\n",
    "* MATCH clause: used to match patterns in the graph\n",
    "* CREATE clause: used to create new nodes or relationships\n",
    "* SET clause: used to set properties on nodes or relationships\n",
    "* RETURN clause: used to return the results of a query\n",
    "\n",
    "**Patterns**\n",
    "\n",
    "* node: represents a node in the graph\n",
    "* relationship: represents a relationship between two nodes\n",
    "* label: represents a label on a node or relationship\n",
    "* property: represents a property on a node or relationship\n",
    "\n",
    "**Example Queries**\n",
    "\n",
    "* MATCH (n:Person {name: \"John\"}) RETURN n: matches a node with label Person and property name equal to \"John\" and returns the node\n",
    "* CREATE (n:Person {name: \"Jane\"}): creates a new node with label Person and property name equal to \"Jane\"\n",
    "* MATCH (n:Person)-[:FRIEND]->(m:Person) RETURN n, m: matches two nodes with label Person that are connected by a relationship with label FRIEND and returns both nodes\n",
    "* MATCH (n:Person {name: \"John\"})-[:FRIEND]->(m:Person) RETURN m: matches a node with label Person and property name equal to \"John\" and returns the node that is connected to it by a relationship with label FRIEND\n",
    "\n",
    "**Cypher Functions**\n",
    "\n",
    "* START: used to start a pattern match\n",
    "* END: used to end a pattern match\n",
    "* RETURN: used to return the results of a query\n",
    "* WITH: used to store intermediate results in a query\n",
    "\n",
    "**Example Cypher Functions**\n",
    "\n",
    "* START n=node(*) MATCH (n)-[:FRIEND]->(m) RETURN n, m: starts a pattern match at all nodes and matches two nodes that are connected by a relationship with label FRIEND and returns both nodes\n",
    "* WITH n, m MATCH (n)-[:FRIEND]->(o) RETURN o: starts a pattern match at the nodes returned by the previous query and matches a node that is connected to one of the nodes by a relationship with label FRIEND and returns the node"
   ]
  },
  {
   "cell_type": "code",
   "execution_count": 14,
   "id": "6e8c95c9",
   "metadata": {},
   "outputs": [
    {
     "name": "stdout",
     "output_type": "stream",
     "text": [
      "\u001b[33mWARNING: Ignoring invalid distribution ~ensorflow (/home/darshit/anaconda3/lib/python3.11/site-packages)\u001b[0m\u001b[33m\n",
      "\u001b[0mCollecting neo4j\n",
      "  Downloading neo4j-5.25.0-py3-none-any.whl.metadata (5.7 kB)\n",
      "Requirement already satisfied: pytz in ./anaconda3/lib/python3.11/site-packages (from neo4j) (2023.3.post1)\n",
      "Downloading neo4j-5.25.0-py3-none-any.whl (296 kB)\n",
      "\u001b[33mWARNING: Ignoring invalid distribution ~ensorflow (/home/darshit/anaconda3/lib/python3.11/site-packages)\u001b[0m\u001b[33m\n",
      "\u001b[0mInstalling collected packages: neo4j\n",
      "\u001b[33mWARNING: Ignoring invalid distribution ~ensorflow (/home/darshit/anaconda3/lib/python3.11/site-packages)\u001b[0m\u001b[33m\n",
      "\u001b[0mSuccessfully installed neo4j-5.25.0\n",
      "\u001b[33mWARNING: Ignoring invalid distribution ~ensorflow (/home/darshit/anaconda3/lib/python3.11/site-packages)\u001b[0m\u001b[33m\n",
      "\u001b[0m\u001b[33mWARNING: Ignoring invalid distribution ~ensorflow (/home/darshit/anaconda3/lib/python3.11/site-packages)\u001b[0m\u001b[33m\n",
      "\u001b[0m"
     ]
    }
   ],
   "source": [
    "!pip install neo4j"
   ]
  },
  {
   "cell_type": "code",
   "execution_count": 61,
   "id": "c0b88ba3",
   "metadata": {},
   "outputs": [],
   "source": [
    "import neo4j\n",
    "from neo4j import GraphDatabase\n",
    "\n",
    "# Create a new graph database instance\n",
    "driver = GraphDatabase.driver(\"bolt://localhost:7687\", auth=(\"darshit\", \"password\"))"
   ]
  },
  {
   "cell_type": "code",
   "execution_count": 67,
   "id": "9563e6da",
   "metadata": {},
   "outputs": [],
   "source": [
    "# Create a new session\n",
    "session = driver.session()\n",
    "\n",
    "# Create nodes for patients, diseases, medications, and healthcare providers\n",
    "for node, labels in entity_concept_dict.items():\n",
    "    if len(labels) > 1:\n",
    "        label = list(labels)[-1]\n",
    "    else:\n",
    "        label = list(labels)[0]\n",
    "#     params = node\n",
    "# #     CREATE (ee:Person {name: 'Emil', from: 'Sweden', kloutScore: 99})\n",
    "    session.run(\"CREATE (n:{} {{name:'{}'}})\".format(label.replace(' ','').replace(',',''), node))"
   ]
  },
  {
   "cell_type": "code",
   "execution_count": 68,
   "id": "367451a6",
   "metadata": {},
   "outputs": [],
   "source": [
    "# Create relationships between nodes\n",
    "for node, labels in entity_concept_dict.items():\n",
    "    for label in labels:\n",
    "        if label == 'Patient':\n",
    "            for other_node, other_labels in entity_concept_dict.items():\n",
    "                if other_node != node and 'Disease' in other_labels:\n",
    "                    session.run(\"MATCH (n {name: $name}) MATCH (o {name: $other_node}) CREATE (n)-[:HAS_DISEASE]->(o)\", name=node, other_node=other_node)\n",
    "        elif label == 'Disease':\n",
    "            for other_node, other_labels in entity_concept_dict.items():\n",
    "                if other_node != node and 'Medication' in other_labels:\n",
    "                    session.run(\"MATCH (n {name: $name}) MATCH (o {name: $other_node}) CREATE (n)-[:TREATED_BY]->(o)\", name=node, other_node=other_node)\n",
    "        elif label == 'Medication':\n",
    "            for other_node, other_labels in entity_concept_dict.items():\n",
    "                if other_node != node and 'Treatment' in other_labels:\n",
    "                    session.run(\"MATCH (n {name: $name}) MATCH (o {name: $other_node}) CREATE (n)-[:USES]->(o)\", name=node, other_node=other_node)\n",
    "        elif label == 'Healthcare Provider':\n",
    "            for other_node, other_labels in entity_concept_dict.items():\n",
    "                if other_node != node and 'Patient' in other_labels:\n",
    "                    session.run(\"MATCH (n {name: $name}) MATCH (o {name: $other_node}) CREATE (n)-[:TREATS]->(o)\", name=node, other_node=other_node)\n",
    "\n",
    "# Close the session\n",
    "session.close()"
   ]
  }
 ],
 "metadata": {
  "kernelspec": {
   "display_name": "Python 3 (ipykernel)",
   "language": "python",
   "name": "python3"
  },
  "language_info": {
   "codemirror_mode": {
    "name": "ipython",
    "version": 3
   },
   "file_extension": ".py",
   "mimetype": "text/x-python",
   "name": "python",
   "nbconvert_exporter": "python",
   "pygments_lexer": "ipython3",
   "version": "3.11.5"
  }
 },
 "nbformat": 4,
 "nbformat_minor": 5
}
